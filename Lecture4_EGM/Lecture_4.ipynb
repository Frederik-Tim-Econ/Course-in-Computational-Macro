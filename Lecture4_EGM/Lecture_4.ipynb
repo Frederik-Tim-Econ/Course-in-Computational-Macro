{
 "cells": [
  {
   "cell_type": "markdown",
   "metadata": {},
   "source": [
    "# Lecture 4: Endogenous Grid Method\n",
    "Consider again the model from Lecture 3.\n",
    "\n",
    "In this lecture, we consider an alternative solution method: the Endogenous Grid Method (EGM). \n",
    "\n",
    "In simple models, EGM eliminates the need for computationally costly numerical solvers by disregarding the value function and instead using the Euler equation:\n",
    "\n",
    "\\begin{align*}\n",
    "    u^{\\prime}\\left(c_{t}\\right)=\\beta R\\cdot\\mathbb{E}\\left[u^{\\prime}\\left(c_{t+1}\\right)\\right]\n",
    "\\end{align*}\n",
    "\n",
    "If the Euler equation does not bind, the optimal choice is constrained and $c_t=w_t$. We need to take care of this possibility in some way!\n",
    "\n",
    "Like the algorithm in Lecture 3, EGM works in a backward induction fashion. So, again we utilize that:\n",
    "\n",
    "\\begin{align*}\n",
    "    c^*_{T} = w_T\n",
    "\\end{align*}\n",
    "\n",
    "\n",
    "## The Algorithm\n",
    "* In any period, we know the policy function tomorrow, $c^*_{t+1}$, from previous steps of backward induction. \n",
    "* Suppose then that we have a time-independent exogenous grid of savings, $a_i\\in\\mathcal{G}_{a}$, with $a_1$ being a small positive number.\n",
    "    * Here, $a_1$ pins down the level of cash-on-hand at which agents would voluntarily begin to save. \n",
    "    * This helps us determine whether or not the Euler binds.\n",
    "* For every point in the grid, we then compute the value of the state variable tomorrow at each node of the discretized shock distribution:\n",
    "\n",
    "\\begin{align*}\n",
    "    w_{t+1} & = y_{t+1}l_{t+1} + R\\cdot a_{t}\n",
    "\\end{align*}\n",
    "\n",
    "We then find optimal consumption tomorrow at each shock node by interpolation over tomorrow's policy function which is now defined over a so-called endogenous grid, $\\mathcal{G}_{w,t+1}$:\n",
    "\n",
    "\\begin{align*}\n",
    "    c_{t+1}^{*}\\left(w_{t+1}\\right)=interp\\left(\\mathcal{G}_{w,t+1},c_{t+1}^{*}\\left(\\mathcal{G}_{w,t+1}\\right),w_{t+1}\\right)\n",
    "\\end{align*}\n",
    "\n",
    "In the last period of life, the endogenous grid is really exogenous. But as we go backward in time, it evolves endogenously according to optimal decisions.\n",
    "\n",
    "To account for the borrowing constraint (to allow for hand-to-mouth consumers), we interpolate over the following grids:\n",
    "\n",
    "\\begin{array}{ccccccc}\n",
    "    c_{t+1}^{*} & = & 0 & c_{t+1,1} & c_{t+1,2} & \\ldots & c_{t+1,\\#}\\\\\n",
    "    \\mathcal{G}_{w,t+1} & = & 0 & w_{t+1,1} & w_{t+1,2} & \\ldots & w_{t+1,\\#}\n",
    "\\end{array}\n",
    "\n",
    "As $c_1$ is the lowest consumption level for which the individual is unconstrained, anyone with $w<w_{t+1,1}$ is credit constrained.\n",
    "\n",
    "We then compute associated current consumption for each corresponding point in the exogenous savings-grid via the Euler equation:\n",
    "\n",
    "\\begin{align*}\n",
    "    c_{t} &= u^{\\prime}\\left(\\beta R\\cdot\\mathbb{E}\\left[u^{\\prime}\\left(c_{t+1}^{*}\\left(w_{t+1}\\right)\\right)\\right]\\right)^{-1} \\\\\n",
    "    c_{t} &= \\left(\\beta R\\cdot\\mathbb{E}\\left[c_{t+1}^{*}\\left(w_{t+1}\\right)^{-\\rho}\\right]\\right)^{-\\frac{1}{\\rho}}\n",
    "\\end{align*}\n",
    "\n",
    "and find the endogenous state $w_{t,i} = a_{t,i} + c_{t,i}$ to create the endogenous grid for the current period $\\mathcal{G}_{w,t}$.\n",
    "\n",
    "Now, we can take a step backward in time and reiterate the above process."
   ]
  },
  {
   "cell_type": "code",
   "execution_count": 1,
   "metadata": {},
   "outputs": [],
   "source": [
    "# Setting Parameters\n",
    "import numpy as np\n",
    "import Tools as tools\n",
    "import ModelFunctions as model\n",
    "import matplotlib.pyplot as plt\n",
    "plt.rcParams['figure.figsize'] = [15, 10]\n",
    "import time\n",
    "\n",
    "np.set_printoptions(suppress=True)\n",
    "\n",
    "\"\"\" Setting parameters \"\"\" \n",
    "par = dict()\n",
    "\n",
    "# Setting model-specific parameters\n",
    "par['T'] = 6\n",
    "par['r'] = 4\n",
    "par['R'] = 1.2\n",
    "par['β'] = 1/par['R']\n",
    "par['ρ'] = 2\n",
    "par['l'] = np.concatenate((np.ones(par['r']),np.zeros(par['T'] - par['r'])))\n",
    "par['μ'] = 0\n",
    "par['σ'] = 0.5\n",
    "\n",
    "# Load Gauss-Hermite weights and nodes\n",
    "par['S'] = 7\n",
    "par['x'],par['wi'] = tools.gauss_hermite(par['S'])\n",
    "par['ω'] = par['wi']/np.sqrt(np.pi)\n",
    "\n",
    "# Compute the discretized shock vector\n",
    "par['Y'] = np.exp(par['σ']*np.sqrt(2)*par['x'])  \n",
    "par['Y'] = par['Y'].flatten()\n",
    "\n",
    "# Creating a grid for cash-on-hand\n",
    "par['a_max'] =  5\n",
    "par['gridsize_a'] = 1000 # State 1: Cash-on-hand\n",
    "\n",
    "par['𝒢_a'] = np.linspace(10e-6,par['a_max'],par['gridsize_a'])\n",
    "par['𝒢_w_det'] = np.linspace(10e-6,par['a_max'],par['gridsize_a']+1)"
   ]
  },
  {
   "cell_type": "markdown",
   "metadata": {},
   "source": [
    "## Solving the Model by EGM\n",
    "We solve the model using [Model](ModelFunctions.py) > solve()\n",
    "\n",
    "To see that the EGM algorithm is faster than the standard method, we solve the model and time it:"
   ]
  },
  {
   "cell_type": "code",
   "execution_count": 2,
   "metadata": {},
   "outputs": [
    {
     "name": "stdout",
     "output_type": "stream",
     "text": [
      "5\n",
      "4\n",
      "3\n",
      "2\n",
      "1\n",
      "0\n",
      "Time to solve: 0.16761136054992676\n"
     ]
    }
   ],
   "source": [
    "t0 = time.time()\n",
    "𝒢_w,Cstar = model.solve(par)\n",
    "t1 = time.time()\n",
    "print('Time to solve:',t1-t0)"
   ]
  },
  {
   "cell_type": "markdown",
   "metadata": {},
   "source": [
    "## A Small Exercise\n",
    "Try to plot the policy function in some period against the relevant endogenous grid:"
   ]
  },
  {
   "cell_type": "code",
   "execution_count": 4,
   "metadata": {},
   "outputs": [
    {
     "data": {
      "image/png": "[encoded data removed]",
      "text/plain": [
       "<Figure size 1080x720 with 1 Axes>"
      ]
     },
     "metadata": {
      "needs_background": "light"
     },
     "output_type": "display_data"
    }
   ],
   "source": [
    "plt.plot(𝒢_w[0,:],Cstar[0,:])\n",
    "plt.title('Working Periods')\n",
    "plt.xlabel(\"Cash-on-hand\")\n",
    "plt.ylabel(\"Consumption\")\n",
    "plt.gca().legend(('Period 1','Period 2','Period 3','Period 4'))\n",
    "plt.show()"
   ]
  },
  {
   "cell_type": "code",
   "execution_count": null,
   "metadata": {},
   "outputs": [],
   "source": []
  }
 ],
 "metadata": {
  "kernelspec": {
   "display_name": "Python 3",
   "language": "python",
   "name": "python3"
  },
  "language_info": {
   "codemirror_mode": {
    "name": "ipython",
    "version": 3
   },
   "file_extension": ".py",
   "mimetype": "text/x-python",
   "name": "python",
   "nbconvert_exporter": "python",
   "pygments_lexer": "ipython3",
   "version": "3.7.6"
  }
 },
 "nbformat": 4,
 "nbformat_minor": 4
}
