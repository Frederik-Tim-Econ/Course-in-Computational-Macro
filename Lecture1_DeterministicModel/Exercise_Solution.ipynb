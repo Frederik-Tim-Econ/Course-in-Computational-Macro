{
 "cells": [
  {
   "cell_type": "markdown",
   "metadata": {},
   "source": [
    "# Lecture 1: Exericse\n",
    "\n",
    "# Introducing a pension scheme to the Code \n",
    "\n",
    "* The equations below introduce a balanced-budget pay-as-you-go pension scheme to the model outlined in Lecture 1. Working agents contribute a constant share of their wage income $\\tau$ to such a pension scheme, while retired agents receive a benefit $b_t$.\n",
    "\n",
    "###  The balanced budget\n",
    "\\begin{align}\n",
    "       \\tau w_t \\sum_{j=1}^{R} l_{j,t-j} & = \\sum_{j=R+1}^{T} b_{t} \\\\\n",
    "\\end{align}\n",
    "\n",
    "###  The household problem\n",
    "With a pension system, the household problem reads:\n",
    "\\begin{align}\n",
    "\\max_{\\left\\{ c_{t}^{i},s_{t}^{i}\\right\\} }\\text{ }U & =\\sum_{j=1}^{T}\\beta^{t}u(c_{j,t})\\\\\n",
    "& s.t.\\\\\n",
    "c_{j,t}+a_{j,t} & =\\left( 1-\\tau \\right) w_{t+j}l_{j,t}+\\left(1+r_{t+j}\\right)a_{j-1,t} + \\left(1-l_{j,t}\\right)b_t \\quad \\quad \\text{with }  a_{0,t}=0\n",
    "\\end{align}\n",
    "\n",
    "\n",
    "### Consolidated budget constraint\n",
    "Deriving the consolidated budget constraint at birth yields:\n",
    "\\begin{align}\n",
    "\\sum_{j=1}^{T}\\dfrac{c_{j,t}}{\\prod_{x=1}^{j}\\left(1+r_{t+x}\\right)}= \\sum_{j=1}^{T}\\dfrac{\\left( 1-\\tau \\right) w_{t+j}l_{j,t} +\\left(1-l_{j,t}\\right)b_{t+j}}{\\prod_{x=1}^{j}\\left(1+r_{t+x}\\right)}\n",
    "\\end{align}\n",
    "\n",
    "### Solve for $c_1$\n",
    "Solving for $c_{1,t}$ by eliminating $c_{j,t}$ using the long-term Euler-Equation:\n",
    "\\begin{align}\n",
    "c_{1,t}=\\dfrac{\\sum_{j=1}^{T}\\dfrac{\\left( 1-\\tau \\right) w_{t+j}l_{j,t} +\\left(1-l_{j,t}\\right)b_{t+j}}{\\prod_{x=1}^{j}\\left(1+r_{t+x}\\right)}}{\\sum_{j=1}^{T}\\dfrac{\\left[\\dfrac{\\beta^{j-1}}{\\left(1+r_{t+j}\\right)}\\prod_{x=1}^{j}\\left(1+r_{t+x}\\right)\\right]^{\\frac{1}{\\rho}}}{\\prod_{x=1}^{j}\\left(1+r_{t+x}\\right)}}\n",
    "\\label{eq:c_1_fl} \\tag{1}\n",
    "\\end{align}\n",
    "\n",
    "## Steady State\n",
    "The closed-form solution for first-period consumption for given steady-state factor prices reads:\n",
    "\\begin{equation}\n",
    "c_1=\\dfrac{\\sum_{j=1}^{T}\\dfrac{\\left( 1-\\tau \\right) w l_{j}  +   \\left(1-l_{j}\\right)b }{\\left(1+r\\right)^{j}}}{\\sum_{j=1}^{T}\\dfrac{\\left[\\beta\\left(1+r\\right)\\right]^{\\frac{j-1}{\\rho}}}{\\left(1+r\\right)^{j}}}\n",
    "\\end{equation}\n",
    "\n",
    "where:\n",
    "\\begin{align}\n",
    "       b = & \\tau w \\dfrac{  \\sum_{j=1}^{R}  l_{j} }{T-R}\n",
    "\\end{align}\n",
    "\n",
    "steady-state saving can then be traced back via the period-by-period budget.\n",
    "\n",
    "\n",
    "# Exercise\n",
    "\n",
    "### 1) Add the pension scheme to the code offered in Lecture 1.\n",
    "\n",
    "### 2) Solve for the steady-state given $\\tau=0.1$ and compare the new steady state to the one without the pension scheme.\n",
    "\n"
   ]
  },
  {
   "cell_type": "markdown",
   "metadata": {},
   "source": [
    "# Solution"
   ]
  },
  {
   "cell_type": "code",
   "execution_count": 2,
   "metadata": {},
   "outputs": [],
   "source": [
    "# Toolkit on coding multiperiod OLG models with pensions\n",
    "# Iowa State Univeristy, Fall semester 2021\n",
    "# Authors: Frederik Bjørn Christensen, Tim Dominik Maurer"
   ]
  },
  {
   "cell_type": "code",
   "execution_count": 3,
   "metadata": {},
   "outputs": [],
   "source": [
    "# Import packages\n",
    "import numpy as np\n",
    "import scipy.optimize as optimize\n",
    "import time\n",
    "import matplotlib.pyplot as plt\n",
    "plt.rcParams['figure.figsize'] = [15, 10]\n",
    "from IPython import display"
   ]
  },
  {
   "cell_type": "code",
   "execution_count": 4,
   "metadata": {},
   "outputs": [],
   "source": [
    "# Define a dictionary for model parameters\n",
    "par = dict() \n",
    "# Calibrate parameters\n",
    "par['T'] = 20 # max age\n",
    "par['R'] = 15 # retirement age\n",
    "par['α'] = 1/3 # output elasticities of capital\n",
    "par['ρ'] = 2 # risk aversion parameter\n",
    "par['δ'] = 0.07 # yearly discount rate\n",
    "par['β'] = 0.95 # agent's patience parameter\n",
    "# vector exogenous labour supply given retirement\n",
    "par['l'] = np.concatenate([np.ones(par['R']),np.zeros([par['T'] - par['R']])]) \n",
    "par['L'] = sum(par['l']) # aggregate labour supply\n",
    "\n",
    "# unpack\n",
    "T = par['T']\n",
    "R = par['R']\n",
    "α = par['α']\n",
    "ρ = par['ρ']\n",
    "δ = par['δ']\n",
    "β = par['β']\n",
    "l = par['l']\n",
    "L = par['L']"
   ]
  },
  {
   "cell_type": "markdown",
   "metadata": {},
   "source": [
    "### Define new functions with a pension system"
   ]
  },
  {
   "cell_type": "code",
   "execution_count": 5,
   "metadata": {},
   "outputs": [],
   "source": [
    "# Solve for the consumption and savings plan given an interest rate\n",
    "def solve_paygo(K_guess,par): # Solve for consumption, savings and aggregate capital given a guess for r\n",
    "    # Unpacking Parameters\n",
    "    T = par['T']\n",
    "    R = par['R']\n",
    "    α = par['α']\n",
    "    ρ = par['ρ']\n",
    "    δ = par['δ']\n",
    "    β = par['β']\n",
    "    l = par['l']\n",
    "    L = par['L']\n",
    "    τ = par['τ']\n",
    "    \n",
    "    # STEP 2: Solve for wage given guessed interest rate\n",
    "    r = α*(K_guess/L)**(α-1) - δ\n",
    "    w = (1 - α)*(K_guess/L)**α\n",
    "\n",
    "    # STEP 3: Solve for first periond consumption (we have a closed form in (1))\n",
    "    b = τ*w*sum(l)/(T-R) # solve for the steady state pension benefit\n",
    "    C1 = sum(( (1-τ)*l*w + (1-l)*b)/(1+r)**np.linspace(1,T,T))/sum((β*(1+r))**((np.linspace(1,T,T)-1)/ρ)/(1+r)**np.linspace(1,T,T))\n",
    "    \n",
    "    # STEP 4: Solve for the whole consumption path using the Euler equation\n",
    "    C = C1*(β*(1+r))**((np.arange(T))/ρ)\n",
    "\n",
    "    # STEP 5: Solve for the whole saviongs path using the budget constraint\n",
    "    A = np.zeros(T) # preallocate storage\n",
    "    A[0] = (1-τ)*w*l[0] - C[0] # solve for first period savings given no initial wealth\n",
    "    for t in range(T): # solve the whole savings path\n",
    "        if t>0:\n",
    "            A[t] = (1-τ)*w*l[t] + (1-l[t])*b + (1 + r)*A[t-1] - C[t]\n",
    "\n",
    "    # STEP 5: Compute implied aggregate capital by summing over savings path\n",
    "    K = sum(A)\n",
    "     \n",
    "    return C,A,K\n",
    "\n",
    "\n",
    "# new objective function calling solve_paygo\n",
    "def objective_paygo(K_guess,par): # Solves the SS\n",
    "    # Calling the solve_paygo to determine Consumption, Savings, and the implies Capital from the current guess\n",
    "    C,A,K_implied = solve_paygo(K_guess,par) \n",
    "    \n",
    "    # STEP 8: Check distance between K_guess - K_implied (Note we define the loss as the squared difference)\n",
    "    loss = (K_guess - K_implied)**2  \n",
    "    return loss"
   ]
  },
  {
   "cell_type": "markdown",
   "metadata": {},
   "source": [
    "### Solve for new Steady State and compare it to the old without a pension scheme"
   ]
  },
  {
   "cell_type": "code",
   "execution_count": 6,
   "metadata": {},
   "outputs": [
    {
     "name": "stdout",
     "output_type": "stream",
     "text": [
      "Steady-state capital without pension scheme: 38.7366233754656\n",
      "Steady-state capital with pension scheme:    30.610747375607385\n"
     ]
    }
   ],
   "source": [
    "# Define a model-consistent level of the lower bound\n",
    "r_lb = 1e-4 - δ # lower bound r\n",
    "K_ub = L*((r_lb+δ)/α)**(1/(α-1)) # upper bound K(r_lb)\n",
    "\n",
    "# Add a zero pension contribution rate\n",
    "par['τ'] = 0.0\n",
    "sol_ss = optimize.minimize_scalar(objective_paygo,bounds=[0,K_ub],args=(par),method='bounded',options={'xatol': 1e-4, 'maxiter': 10000})\n",
    "K_ss = sol_ss.x # Equilibrium capital stock\n",
    "\n",
    "# STEP 9: Minimize loss\n",
    "# Add a non-zero pension contribution rate\n",
    "par['τ'] = 0.1\n",
    "sol_paygo = optimize.minimize_scalar(objective_paygo,bounds=[0,K_ub],args=(par),method='bounded',options={'xatol': 1e-4, 'maxiter': 10000})\n",
    "K_ss_paygo = sol_paygo.x # Equilibrium capital stock\n",
    "\n",
    "print('Steady-state capital without pension scheme:',K_ss)\n",
    "print('Steady-state capital with pension scheme:   ',K_ss_paygo)"
   ]
  },
  {
   "cell_type": "markdown",
   "metadata": {},
   "source": [
    "### Intution\n",
    "Compared to a setting without pensions, agents do not need to save as much during work-life in order to maintain the same level of concumption because they will receive a pay-as-you-go pension benefit in retirement. Hence, savings fall and there is less capital in steady-state."
   ]
  },
  {
   "cell_type": "markdown",
   "metadata": {},
   "source": [
    "## Going Forward\n",
    "In the next lecture, we will consider the model with a pension system in more detail. Specifically, we will go over how to solve the dynamic transition path between two steady states when policy changes unexpectedly (an MIT-shock)."
   ]
  }
 ],
 "metadata": {
  "kernelspec": {
   "display_name": "Python 3",
   "language": "python",
   "name": "python3"
  },
  "language_info": {
   "codemirror_mode": {
    "name": "ipython",
    "version": 3
   },
   "file_extension": ".py",
   "mimetype": "text/x-python",
   "name": "python",
   "nbconvert_exporter": "python",
   "pygments_lexer": "ipython3",
   "version": "3.7.6"
  }
 },
 "nbformat": 4,
 "nbformat_minor": 4
}
