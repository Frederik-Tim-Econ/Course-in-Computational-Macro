{
 "cells": [
  {
   "cell_type": "markdown",
   "metadata": {},
   "source": [
    "# Lecture 1: Exericse\n",
    "\n",
    "# Introducing a pension scheme to the Code \n",
    "\n",
    "* The equations below introduce a balanced-budget pay-as-you-go pension scheme to the model outlined in Lecture 1. Working agents contribute a constant share of their wage income $\\tau$ to such a pension scheme, while retired agents receive a benefit $b_t$.\n",
    "\n",
    "###  The balanced budget\n",
    "\\begin{align}\n",
    "       \\tau w_t \\sum_{j=1}^{R} l_{j,t-j} & = \\sum_{j=R+1}^{T} b_{t} \\\\\n",
    "\\end{align}\n",
    "\n",
    "###  The household problem\n",
    "With a pension system, the household problem reads:\n",
    "\\begin{align}\n",
    "\\max_{\\left\\{ c_{t}^{i},s_{t}^{i}\\right\\} }\\text{ }U & =\\sum_{j=1}^{T}\\beta^{t}u(c_{j,t})\\\\\n",
    "& s.t.\\\\\n",
    "c_{j,t}+a_{j,t} & =\\left( 1-\\tau \\right) w_{t+j}l_{j,t}+\\left(1+r_{t+j}\\right)a_{j-1,t} + \\left(1-l_{j,t}\\right)b_t \\quad \\quad \\text{with }  a_{0,t}=0\n",
    "\\end{align}\n",
    "\n",
    "\n",
    "### Consolidated budget constraint\n",
    "Deriving the consolidated budget constraint at birth yields:\n",
    "\\begin{align}\n",
    "\\sum_{j=1}^{T}\\dfrac{c_{j,t}}{\\prod_{x=1}^{j}\\left(1+r_{t+x}\\right)}= \\sum_{j=1}^{T}\\dfrac{\\left( 1-\\tau \\right) w_{t+j}l_{j,t} +\\left(1-l_{j,t}\\right)b_{t+j}}{\\prod_{x=1}^{j}\\left(1+r_{t+x}\\right)}\n",
    "\\end{align}\n",
    "\n",
    "### Solve for $c_1$\n",
    "Solving for $c_{1,t}$ by eliminating $c_{j,t}$ using the long-term Euler-Equation:\n",
    "\\begin{align}\n",
    "c_{1,t}=\\dfrac{\\sum_{j=1}^{T}\\dfrac{\\left( 1-\\tau \\right) w_{t+j}l_{j,t} +\\left(1-l_{j,t}\\right)b_{t+j}}{\\prod_{x=1}^{j}\\left(1+r_{t+x}\\right)}}{\\sum_{j=1}^{T}\\dfrac{\\left[\\dfrac{\\beta^{j-1}}{\\left(1+r_{t+j}\\right)}\\prod_{x=1}^{j}\\left(1+r_{t+x}\\right)\\right]^{\\frac{1}{\\rho}}}{\\prod_{x=1}^{j}\\left(1+r_{t+x}\\right)}}\n",
    "\\end{align}\n",
    "\n",
    "## Steady State\n",
    "The closed-form solution for first-period consumption for given steady-state factor prices reads:\n",
    "\\begin{equation}\n",
    "c_1=\\dfrac{\\sum_{j=1}^{T}\\dfrac{\\left( 1-\\tau \\right) w l_{j}  +   \\left(1-l_{j}\\right)b }{\\left(1+r\\right)^{j}}}{\\sum_{j=1}^{T}\\dfrac{\\left[\\beta\\left(1+r\\right)\\right]^{\\frac{j-1}{\\rho}}}{\\left(1+r\\right)^{j}}}\n",
    "\\label{eq:c_1_fl} \\tag{1}\n",
    "\\end{equation}\n",
    "\n",
    "where:\n",
    "\\begin{align}\n",
    "       b = & \\tau w \\dfrac{  \\sum_{j=1}^{R}  l_{j} }{T-R}\n",
    "\\end{align}\n",
    "\n",
    "steady-state saving can then be traced back via the period-by-period budget.\n",
    "\n",
    "\n",
    "# Exercise\n",
    "\n",
    "### 1) Add the pension scheme to the code offered in Lecture 1.\n",
    "\n",
    "### 2) Solve for the steady-state given $\\tau=0.1$ and compare the new steady state to the one without the pension scheme.\n",
    "\n"
   ]
  }
 ],
 "metadata": {
  "kernelspec": {
   "display_name": "Python 3",
   "language": "python",
   "name": "python3"
  },
  "language_info": {
   "codemirror_mode": {
    "name": "ipython",
    "version": 3
   },
   "file_extension": ".py",
   "mimetype": "text/x-python",
   "name": "python",
   "nbconvert_exporter": "python",
   "pygments_lexer": "ipython3",
   "version": "3.8.5"
  }
 },
 "nbformat": 4,
 "nbformat_minor": 4
}
