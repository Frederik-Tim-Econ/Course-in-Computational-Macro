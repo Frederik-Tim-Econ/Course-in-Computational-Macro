{
 "cells": [
  {
   "cell_type": "markdown",
   "metadata": {},
   "source": [
    "# Lecture 1"
   ]
  },
  {
   "cell_type": "markdown",
   "metadata": {},
   "source": [
    "# A simple life-cycle model in general equilibrium"
   ]
  },
  {
   "cell_type": "code",
   "execution_count": 2,
   "metadata": {},
   "outputs": [],
   "source": [
    "# Toolkit on coding multiperiod OLG models\n",
    "# Iowa State Univeristy, Fall semester 2021\n",
    "# Authors: Frederik Bjørn Christensen, Tim Dominik Maurer"
   ]
  },
  {
   "cell_type": "markdown",
   "metadata": {},
   "source": [
    "# 1. Model features\n",
    "\n",
    "* Time is discrete and indexed by $t \\in \\{0,1,2,..\\}$.\n",
    "* There is no growth in technology level or population size.\n",
    "\n",
    "## 1.1.Households\n",
    "* Agents live for $T$ periods and retire in period $R$.\n",
    "* Household age is discrete and indexed by $j \\in \\{1,2,..,T\\}$.\n",
    "* They own capital and supply labor exogenously.\n",
    "\n",
    "### The Problem\n",
    "Agents born at time $t$, who start to consume in period $t+1$, maximize the present value of life-time utility w.r.t. consumption $c$ subject to a period-by-period budget constraint. The problem reads:\n",
    "\n",
    "\\begin{align}\n",
    "\\max_{\\left\\{ c_{t}^{i},a_{t}^{i}\\right\\} }\\text{ }U & =\\sum_{j=1}^{T}\\beta^{t}u(c_{j,t})\\\\\n",
    "& s.t.\\\\\n",
    "c_{j,t}+a_{j,t} & =w_{t+j}l_{j,t}+\\left(1+r_{t+j}\\right)a_{j-1,t} \\quad \\quad \\text{with }  a_{0,t}=0\\\\\n",
    "\\end{align}\n",
    "\n",
    "Here, $a$ are savings, $w$ is the wage rate, $r$ is the interest rate on capital and $l$ is exogenous labor supply with:\n",
    "\\begin{equation}\n",
    "l_j = \\begin{cases}\n",
    "1 \\quad \\text{if } j\\leq R\\\\\n",
    "0 \\quad \\text{otherwise}\n",
    "\\end{cases}\n",
    "\\end{equation}\n",
    "\n",
    "We choose CRRA-utility such that:\n",
    "\\begin{equation}\n",
    "u(c) = \\begin{cases}\n",
    "\\dfrac{c^{1-\\rho}-1}{1-\\rho} & \\rho\\geq0,\\rho\\neq1 \\\\\\\n",
    "\\log(c) & \\rho=1\n",
    "\\end{cases}\n",
    "\\end{equation}\n",
    "\n",
    "\n",
    "### FOC\n",
    "Derive the period-by-period Euler-Equation:\n",
    "\n",
    "\\begin{align}\n",
    "c_{j+1,t} & = c_{j,t}\\left[\\beta\\left(1+r_{t+j+1}\\right)\\right]^{\\frac{1}{\\rho}}\n",
    "\\tag{L1.1}\n",
    "\\end{align}\n",
    "\n",
    "Derive the long-term Euler-Equation:\n",
    "\n",
    "\\begin{align}\n",
    "c_{j,t}=c_{1,t}\\left[\\beta^{j-1}\\prod_{x=2}^{j}\\left(1+r_{t+x}\\right)\\right]^{\\frac{1}{\\rho}} \\quad \\text{for } j>1\n",
    "\\tag{L1.2}\n",
    "\\end{align}\n",
    "\n",
    "### Consolidated budget constraint\n",
    "Derive the consolidated budget constraint at birth:\n",
    "\\begin{align}\n",
    "\\sum_{j=1}^{T}\\dfrac{c_{j,t}}{\\prod_{x=1}^{j}\\left(1+r_{t+x}\\right)}=\\sum_{j=1}^{T}\\dfrac{w_{t+j}l_{j,t}}{\\prod_{x=1}^{j}\\left(1+r_{t+x}\\right)}\n",
    "\\end{align}\n",
    "\n",
    "### Solve for $c_1$\n",
    "Solve for $c_{1,t}$ by eliminating $c_{j,t}$ using the long-term Euler-Equation:\n",
    "\\begin{align}\n",
    "c_{1,t}=\\dfrac{\\sum_{j=1}^{T}\\dfrac{w_{t+j}l_{j,t}}{\\prod_{x=1}^{j}\\left(1+r_{t+x}\\right)}}{\\sum_{j=1}^{T}\\dfrac{\\left[\\dfrac{\\beta^{j-1}}{\\left(1+r_{t+1}\\right)}\\prod_{x=1}^{j}\\left(1+r_{t+x}\\right)\\right]^{\\frac{1}{\\rho}}}{\\prod_{x=1}^{j}\\left(1+r_{t+x}\\right)}}\n",
    "\\tag{L1.3}\n",
    "\\end{align}\n",
    "\n",
    "## 1.2. Firms\n",
    "* There is a single consumption good, which is produced using a neoclassical aggregate production function $Y_t=F\\left(K_t,L_{t}\\right)$ from $K_t$ units of capital and $L_{t}$ labor units supplied at time $t$. \n",
    "* We assume that $F$ is CRS and Cobb-Douglas, $Y_{t} =K_{t}^{\\alpha}L_{t}^{1-\\alpha}$.\n",
    "\n",
    "* Firms maximise their profits:\n",
    "\\begin{align}\n",
    "\\max_{\\left\\{ K_{t},L_{t}\\right\\} }\\text{ } \\Pi_{t} & =Y_{t}-\\left(r_{t}+\\delta\\right)K_{t}-w_{t}L_{t},\n",
    "\\end{align}\n",
    "where $\\delta$ is the depreciation rate of captial and $r_{t} + \\delta$ is the capital rental rate.\n",
    "\n",
    "## 2. Equilibrium\n",
    "* Households maximize utility\n",
    "* Firms maximize profits\n",
    "* The the capital market, the labor market as well as the goods market clear in equilibrium:\n",
    "\\begin{align}\n",
    "    K_{t+1} & =\\sum_{j=1}^{T}a_{j,t-j}\\\\\n",
    "    L_t & =\\sum_{j=1}^{T}l_{j,t-j} \\\\\n",
    "    Y_{t} & = C_t + I_t = C_t + K_{t+1} - (1-\\delta) K_t\n",
    "\\end{align}\n",
    "* Equilibrium factor prices equal\n",
    "\\begin{align}\n",
    "    r_{t} & =\\alpha\\left(\\dfrac{K_{t}}{L_{t}}\\right)^{\\alpha-1}-\\delta\\\\\n",
    "    w_{t} & =\\left(1-\\alpha\\right)\\left(\\dfrac{K_{t}}{L_{t}}\\right)^{\\alpha}\n",
    "\\end{align}\n",
    "Note that  $C_t=\\sum_{j=1}^{T}c_{j,t-j}$.\n",
    "\n",
    "\n",
    "## 3. Solving the steady state\n",
    "In a steady state equilibrium we have that capital and thus factor prices are constant. For optimal first period consumption this implies:\n",
    "\n",
    "\\begin{equation*}\n",
    "c_1=\\dfrac{w\\sum_{j=1}^{T}\\dfrac{l_{j}}{\\left(1+r\\right)^{j}}}{\\sum_{j=1}^{T}\\dfrac{\\left[\\beta\\left(1+r\\right)\\right]^{\\frac{j-1}{\\rho}}}{\\left(1+r\\right)^{j}}}\n",
    "\\label{eq:c_1ss} \\tag{L1.4}\n",
    "\\end{equation*}\n",
    "\n",
    "\n",
    "### 3.1 Alogrithm to find steady-state capital level\n",
    "\n",
    "To solve for steady-state capital we use a solution algorithm proceeding as follows:\n",
    "1. Guess a steady-state capital stock $K^{\\prime}$\n",
    "2. Calculate factor prices $w^{\\prime}$ and $r^{\\prime}$ given $K^{\\prime}$ \n",
    "3. Solve for $c_1$ in euqation $(L1.4)$ given  $w^{\\prime}$ and $r^{\\prime}$\n",
    "4. Solve $c_j \\forall j>1$ using the Euler equation $c_{j+1}=\\left[\\beta\\left(1+r^{\\prime}\\right)\\right]^{-\\frac{1}{\\rho}} c_{j}$\n",
    "5. Solve $a_j \\forall j>1$ using the budget constraint $a_{j} =w^{\\prime}l_{j}+\\left(1+r^{\\prime}\\right) a_{j-1}-c_{j}$\n",
    "6. Compute implied aggregate capital $K^{\\prime\\prime} =\\sum_{j=1}^{T}a_{j}$\n",
    "8. Check whether aggregate capital equals the guess $K^{\\prime}$\n",
    "9. Update guess of capital until convergence, $K^{\\prime}\\approx K^{\\prime\\prime}$\n",
    "\n",
    "\n",
    "# 4. Implementation"
   ]
  },
  {
   "cell_type": "code",
   "execution_count": 2,
   "metadata": {},
   "outputs": [],
   "source": [
    "# Import packages\n",
    "import numpy as np\n",
    "import scipy.optimize as optimize\n",
    "import time\n",
    "import matplotlib.pyplot as plt\n",
    "plt.rcParams['figure.figsize'] = [12, 8]\n",
    "from IPython import display"
   ]
  },
  {
   "cell_type": "markdown",
   "metadata": {},
   "source": [
    "### 4.1 Calibration"
   ]
  },
  {
   "cell_type": "code",
   "execution_count": 3,
   "metadata": {},
   "outputs": [],
   "source": [
    "# Define a dictionary for model parameters\n",
    "par = dict() \n",
    "# Calibrate parameters\n",
    "par['T'] = 20 # max age\n",
    "par['R'] = 15 # retirement age\n",
    "par['α'] = 1/3 # output elasticities of capital\n",
    "par['ρ'] = 2 # risk aversion parameter\n",
    "par['δ'] = 0.07 # yearly depreciation rate\n",
    "par['β'] = 0.95 # agent's patience parameter\n",
    "# vector exogenous labor supply given retirement\n",
    "par['l'] = np.concatenate([np.ones(par['R']),np.zeros([par['T'] - par['R']])]) \n",
    "par['L'] = sum(par['l']) # aggregate labor supply\n",
    "\n",
    "# unpack\n",
    "T = par['T']\n",
    "R = par['R']\n",
    "α = par['α']\n",
    "ρ = par['ρ']\n",
    "δ = par['δ']\n",
    "β = par['β']\n",
    "l = par['l']\n",
    "L = par['L']"
   ]
  },
  {
   "cell_type": "markdown",
   "metadata": {},
   "source": [
    "### 4.2. Solve the model for given captial level\n",
    "Ultimately, we are going to write a function that takes care of step 1 to 6 of the algorithm. But let us first go through the steps one-by-one:"
   ]
  },
  {
   "cell_type": "code",
   "execution_count": 4,
   "metadata": {},
   "outputs": [
    {
     "name": "stdout",
     "output_type": "stream",
     "text": [
      "interest rate: 0.11947891466173288\n",
      "         wage: 0.8842349350880873\n"
     ]
    }
   ],
   "source": [
    "# STEP 1: Guess a steady-state capital level\n",
    "K = 35\n",
    "\n",
    "# STEP 2: Calculate factor prices given the guessed captial level\n",
    "r = α*(K/L)**(α-1) - δ\n",
    "w = (1 - α)*(K/L)**α\n",
    "\n",
    "# print factor prices\n",
    "print('interest rate:',r) \n",
    "print('         wage:',w) "
   ]
  },
  {
   "cell_type": "markdown",
   "metadata": {},
   "source": [
    "In STEP 3, we want to calcualte first-period consumption. Let us first restate the expression for steady-state, first-period consumption in (L1.4)\n",
    "\\begin{equation*}\n",
    "c_1=\\dfrac{w\\sum_{j=1}^{T}\\dfrac{l_{j}}{\\left(1+r\\right)^{j}}}{\\sum_{j=1}^{T}\\dfrac{\\left[\\beta\\left(1+r\\right)\\right]^{\\frac{j-1}{\\rho}}}{\\left(1+r\\right)^{j}}}\n",
    "\\end{equation*}\n",
    "\n",
    "and then focus on the numerator:\n",
    "\n",
    "\\begin{equation*}\n",
    "w\\sum_{j=1}^{T}\\dfrac{l_{j}}{\\left(1+r\\right)^{j}} \\tag{L1.5}\n",
    "\\end{equation*}\n",
    "\n",
    "A neat way of coding this is to vectorize and then take the sum over a vector. Our vector of exogenous labor supply looks like this:\n",
    "$ \\textbf{l} = \\left[l_1 = 1 , l_2 = 1,...,l_R = 1, l_{R+1} = 0 , ..., l_{T}= 0\\right]$\n"
   ]
  },
  {
   "cell_type": "code",
   "execution_count": 5,
   "metadata": {},
   "outputs": [
    {
     "data": {
      "text/plain": [
       "array([1., 1., 1., 1., 1., 1., 1., 1., 1., 1., 1., 1., 1., 1., 1., 0., 0.,\n",
       "       0., 0., 0.])"
      ]
     },
     "execution_count": 5,
     "metadata": {},
     "output_type": "execute_result"
    }
   ],
   "source": [
    "l # print the vector "
   ]
  },
  {
   "cell_type": "markdown",
   "metadata": {},
   "source": [
    "We now want to divide the vector $l$ by the following cumulative product vector of $(1+r)$: \n",
    "\n",
    "$\\left[(1+r)^1 , (1+r)^2,...,(1+r)^{T-1},(1+r)^{T}\\right]$\n"
   ]
  },
  {
   "cell_type": "code",
   "execution_count": 6,
   "metadata": {},
   "outputs": [
    {
     "data": {
      "text/plain": [
       "array([ 1.,  2.,  3.,  4.,  5.,  6.,  7.,  8.,  9., 10., 11., 12., 13.,\n",
       "       14., 15., 16., 17., 18., 19., 20.])"
      ]
     },
     "execution_count": 6,
     "metadata": {},
     "output_type": "execute_result"
    }
   ],
   "source": [
    "np.linspace(1,T,T) # first define a vector of a sequence from 1 to T used for the power"
   ]
  },
  {
   "cell_type": "code",
   "execution_count": 7,
   "metadata": {},
   "outputs": [
    {
     "data": {
      "text/plain": [
       "array([1.11947891, 1.25323304, 1.40296796, 1.57059305, 1.75824581,\n",
       "       1.96831911, 2.20349174, 2.46676254, 2.76148865, 3.09142832,\n",
       "       3.46078882, 3.87428011, 4.33717489, 4.85537584, 5.43549088,\n",
       "       6.08491743, 6.81193676, 7.62581957, 8.53694421, 9.55692904])"
      ]
     },
     "execution_count": 7,
     "metadata": {},
     "output_type": "execute_result"
    }
   ],
   "source": [
    "(1+r)**np.linspace(1,T,T) # put (1+r) to the power "
   ]
  },
  {
   "cell_type": "markdown",
   "metadata": {},
   "source": [
    "We are now ready to evaluate (L1.5) as:"
   ]
  },
  {
   "cell_type": "code",
   "execution_count": 8,
   "metadata": {},
   "outputs": [
    {
     "data": {
      "text/plain": [
       "6.039198711171896"
      ]
     },
     "execution_count": 8,
     "metadata": {},
     "output_type": "execute_result"
    }
   ],
   "source": [
    " w*sum(l/(1+r)**np.linspace(1,T,T))"
   ]
  },
  {
   "cell_type": "markdown",
   "metadata": {},
   "source": [
    "Given that we have introduced the concept of evaluating sums using vectorization, we can compute optimal steady-state, first-period consumption:"
   ]
  },
  {
   "cell_type": "code",
   "execution_count": 9,
   "metadata": {},
   "outputs": [
    {
     "name": "stdout",
     "output_type": "stream",
     "text": [
      "C1: 0.6607134171230338\n",
      "Long run Euler vector that is multiplied with C1:\n",
      "[1.         1.03126377 1.06350497 1.09675415 1.13104282 1.16640348\n",
      " 1.20286966 1.2404759  1.27925786 1.31925229 1.36049709 1.40303136\n",
      " 1.44689541 1.49213082 1.53878046 1.58688855 1.63650067 1.68766385\n",
      " 1.74042659 1.79483889]\n",
      "Vector of consumption path:\n",
      "[0.66071342 0.68136981 0.702672   0.72464018 0.74729517 0.77065843\n",
      " 0.79475212 0.81959907 0.84522283 0.87164769 0.89889868 0.92700164\n",
      " 0.95598321 0.98587086 1.0166929  1.04847855 1.08125795 1.11506215\n",
      " 1.1499232  1.18587414]\n"
     ]
    }
   ],
   "source": [
    "# STEP 3: Solve for first periond consumption as in equation (L1.4)\n",
    "C1 = w*sum(l/(1+r)**np.linspace(1,T,T))/sum((β*(1+r))**((np.linspace(1,T,T)-1)/ρ)/(1+r)**np.linspace(1,T,T))\n",
    "print('C1:',C1) \n",
    "\n",
    "# STEP 4: Solve for the consumption path over the life-cycle\n",
    "\n",
    "# using very similar techniques and the Long-run Euler Equation (L1.2),\n",
    "# we can solve for the vector of the consumption path:\n",
    "C = C1*(β*(1+r))**((np.arange(T))/ρ)\n",
    "print('Long run Euler vector that is multiplied with C1:')\n",
    "print((β*(1+r))**((np.arange(T))/ρ))\n",
    "print('Vector of consumption path:')\n",
    "print(C)"
   ]
  },
  {
   "cell_type": "markdown",
   "metadata": {},
   "source": [
    "This vectorization is much faster and neater than writing a loop that would use the short-term Euler Equation (L1.1):"
   ]
  },
  {
   "cell_type": "code",
   "execution_count": 10,
   "metadata": {},
   "outputs": [
    {
     "data": {
      "text/plain": [
       "array([ True,  True,  True,  True,  True,  True,  True,  True,  True,\n",
       "        True,  True,  True,  True,  True,  True,  True,  True,  True,\n",
       "        True,  True])"
      ]
     },
     "execution_count": 10,
     "metadata": {},
     "output_type": "execute_result"
    }
   ],
   "source": [
    "# define storage for consumption path\n",
    "Cloop = np.zeros(T)\n",
    "Cloop[0] = C1 # first period consumption is the first index (indexatin in python starts at 0)\n",
    "for i in range(T-1): # loop consumption forward using the short-term Euler equation in (L1.1)\n",
    "    Cloop[i+1] = (β*(1+r))**(1/ρ) * Cloop[i]\n",
    "# check that both techniques give the same result: (we check whether the absolute difference is very very small)\n",
    "abs(Cloop-C)<10e-12"
   ]
  },
  {
   "cell_type": "code",
   "execution_count": 11,
   "metadata": {},
   "outputs": [
    {
     "name": "stdout",
     "output_type": "stream",
     "text": [
      "Implied level of capital: 39.50563150763501\n",
      "Initial guess: 35\n"
     ]
    }
   ],
   "source": [
    "# STEP 5: Solve for the whole savings path using the budget constraint\n",
    "A = np.zeros(T) # preallocate storage\n",
    "A[0] = w*l[0] - C[0] # solve for first period savings given no initial wealth\n",
    "for t in range(1,T): # solve the whole savings path\n",
    "    A[t] = w*l[t] + (1 + r)*A[t-1] - C[t]\n",
    "    \n",
    "# STEP 6: Compute implied aggregate capital\n",
    "K_implied = sum(A)\n",
    "print('Implied level of capital:' ,K_implied)\n",
    "print('Initial guess:' ,K)"
   ]
  },
  {
   "cell_type": "markdown",
   "metadata": {},
   "source": [
    "### 4.4 Function solving the model for given factor prices"
   ]
  },
  {
   "cell_type": "code",
   "execution_count": 12,
   "metadata": {},
   "outputs": [],
   "source": [
    "# Solve fore the consumption and savings plan given an interest rate\n",
    "def solve(K_guess,par): # Solve for consumption, savings and aggregate capital given a guess for r\n",
    "\n",
    "    # Unpacking Parameters\n",
    "    T = par['T']\n",
    "    ρ = par['ρ']\n",
    "    δ = par['δ']\n",
    "    β = par['β']\n",
    "    l = par['l']\n",
    "    L = par['L']\n",
    "\n",
    "    # STEP 2: Solve for wage given guessed interest rate\n",
    "    r = α*(K_guess/L)**(α-1) - δ\n",
    "    w = (1 - α)*(K_guess/L)**α\n",
    "\n",
    "    # STEP 3: Solve for first periond consumption as in equation (L1.4)\n",
    "    C1 = w*sum(l/(1+r)**np.linspace(1,T,T))/sum((β*(1+r))**((np.linspace(1,T,T)-1)/ρ)/(1+r)**np.linspace(1,T,T))\n",
    "    \n",
    "    # STEP 4: Solve for the whole consumption path using the Long-Run Euler equation (L1.2)\n",
    "    C = C1*(β*(1+r))**((np.arange(T))/ρ)\n",
    "\n",
    "    # STEP 5: Solve for the whole saviongs path using the budget constraint\n",
    "    A = np.zeros(T) # preallocate storage\n",
    "    A[0] = w*l[0] - C[0] # solve for first period savings given no initial wealth\n",
    "    for t in range(T): # solve the whole savings path\n",
    "        if t>0:\n",
    "            A[t] = w*l[t] + (1 + r)*A[t-1] - C[t]\n",
    "\n",
    "    # STEP 6: Compute implied aggregate capital by summing over savings path\n",
    "    K_implied = sum(A)\n",
    "     \n",
    "    return C,A,K_implied"
   ]
  },
  {
   "cell_type": "markdown",
   "metadata": {},
   "source": [
    "### 4.5 Function define loss given guess"
   ]
  },
  {
   "cell_type": "code",
   "execution_count": 13,
   "metadata": {},
   "outputs": [],
   "source": [
    "# Define objective function that outputs the distances between K_guess and K_implied (STEP 8)\n",
    "def objective(K_guess,par): # Solves the SS\n",
    "   \n",
    "    C,A,K_implied = solve(K_guess,par) \n",
    "    \n",
    "    # STEP 8: Check distance between K_guess - K_implied (Note we define the loss as the squared difference)\n",
    "    loss = (K_guess - K_implied)**2  \n",
    "    return loss\n"
   ]
  },
  {
   "cell_type": "markdown",
   "metadata": {},
   "source": [
    "### 4.6 Minimize loss function to find equlibrium\n",
    "In order to discipline the upper bound of the guess of capital, we can solve the expression for the interest rate for capital:\n",
    "\\begin{align}\n",
    "    r_{t} & =\\alpha\\left(\\dfrac{K_{t}}{L_{t}}\\right)^{\\alpha-1}-\\delta\\\\\n",
    "    K_t & = L_t \\left( \\frac{r_{t}+\\delta}{\\alpha}\\right)^{\\frac{1}{\\alpha-1}}\n",
    "\\end{align}\n",
    "If $r_{t}+\\delta<0$ capital become imaginary."
   ]
  },
  {
   "cell_type": "code",
   "execution_count": 14,
   "metadata": {},
   "outputs": [
    {
     "name": "stdout",
     "output_type": "stream",
     "text": [
      "    Upper bound of K: 2886.751345948126\n",
      "Steady-state capital: 38.736617912697334\n"
     ]
    }
   ],
   "source": [
    "# Define a model-consistent level of the lower bound\n",
    "r_lb = 0.01 - δ # lower bound r\n",
    "K_ub = L*((r_lb+δ)/α)**(1/(α-1)) # upper bound K(r_lb)\n",
    "print('    Upper bound of K:',K_ub)\n",
    "\n",
    "# STEP 9: Minimize loss\n",
    "\n",
    "# using an initial guess\n",
    "Kguess = 100\n",
    "sol = optimize.minimize(objective,Kguess,args=(par))\n",
    "\n",
    "# using bounds (constrained optimization)\n",
    "# sol2 = optimize.minimize_scalar(objective,bounds=[0,K_ub],args=(par),method='bounded')\n",
    "\n",
    "# Equilibrium capital stock\n",
    "K_ss = sol.x\n",
    "print('Steady-state capital:',K_ss[0])"
   ]
  },
  {
   "cell_type": "markdown",
   "metadata": {},
   "source": [
    "### 4.7 Steady-state consumption and savings paths"
   ]
  },
  {
   "cell_type": "code",
   "execution_count": 15,
   "metadata": {},
   "outputs": [
    {
     "data": {
      "image/png": "[encoded data removed]",
      "text/plain": [
       "<Figure size 864x576 with 1 Axes>"
      ]
     },
     "metadata": {
      "needs_background": "light"
     },
     "output_type": "display_data"
    }
   ],
   "source": [
    "C_ss,A_ss,K_ss = solve(K_ss,par)\n",
    "\n",
    "# add zero wealth at birth\n",
    "A_ss = np.concatenate([np.zeros(1),A_ss]) \n",
    "\n",
    "plt.plot(np.arange(T+1),A_ss)\n",
    "plt.plot(np.linspace(1,T,T),C_ss)\n",
    "plt.title('Consumption and Saving Path')\n",
    "plt.xlabel(\"Age\")\n",
    "plt.gca().legend(('Saving','Consumption'))\n",
    "plt.xticks(np.arange(T+1))\n",
    "plt.show()"
   ]
  },
  {
   "cell_type": "markdown",
   "metadata": {},
   "source": [
    "Question: Could you come up with a faster solution algorithm that differs from our algorithm after step 4 and does not require to calculate the path of savings and implied capital?\n",
    "\n",
    "\n",
    "## 5. Contraction mapping\n",
    "\n",
    "Let $(K,d)$ be a [metric space](https://en.wikipedia.org/wiki/Metric_space). A mapping $M: K \\rightarrow K$ is a contraction mapping if there exists a constant $c$, with $0\\leq c < 1$, such that: \n",
    "\n",
    "$$\n",
    "| M(k^{\\prime})-M(k^{\\prime\\prime})| \\leq c | k^{\\prime}-k^{\\prime\\prime} |\n",
    "$$ \n",
    "\n",
    "for all $k^{\\prime},k^{\\prime\\prime} \\in K$. In this application, the mapping function $M(K)$ maps a guess of steady-state capital onto an implied capital level given optimal behavior:\n",
    "$$\n",
    "M(K)=\\sum_{j=1}^{T}a_{j,t-j}\\left(w(K^{}), r(K_{}^{}) \\right)\n",
    "$$\n",
    "\n",
    "Here, we do not formally prove whether a contraction mapping exists but numerically investigate whether $M(K)$ contracts $K$ to the previously computed steady state. First, we plot the mapping function $M(K)$ using discretization:\n",
    "\n",
    "1. Choose a grid of guesses of steady-state capital levels $\\mathcal{G} \\equiv\\left\\{K^{0}, K^{1}, \\ldots, K^{\\#}\\right\\}$\n",
    "2. For each guess $K^{i} \\in \\mathcal{G}$ solve for the implied capital level $K_{+}^{i}$.\n",
    "\n",
    "$$\n",
    "K_{+}^{i}  =\\sum_{j=1}^{T}a_{j,t-j}\\left(w(K^{i}), r(K_{}^{i}) \\right)\n",
    "$$\n",
    "\n",
    "3. The discritized mapping function then yields: $\\left\\{\\left(K^{0}, K_{+}^{0}\\right),\\left(K^{1}, K_{+}^{1}\\right), \\ldots,\\left(K^{\\#}, K_{+}^{\\#}\\right)\\right\\}$"
   ]
  },
  {
   "cell_type": "code",
   "execution_count": 16,
   "metadata": {},
   "outputs": [
    {
     "data": {
      "text/plain": [
       "<matplotlib.legend.Legend at 0x2397382c850>"
      ]
     },
     "execution_count": 16,
     "metadata": {},
     "output_type": "execute_result"
    },
    {
     "data": {
      "image/png": "[encoded data removed]",
      "text/plain": [
       "<Figure size 864x576 with 1 Axes>"
      ]
     },
     "metadata": {
      "needs_background": "light"
     },
     "output_type": "display_data"
    }
   ],
   "source": [
    "# define the grid of K^i\n",
    "gridsize  = 100 \n",
    "ss_jump = 20  # how far away form steady state do we jump\n",
    "\n",
    "K = np.linspace(K_ss-ss_jump,K_ss+ss_jump,gridsize) # Define grid\n",
    "\n",
    "\n",
    "# Compute associated K_{+}\n",
    "K_plus = np.copy(K) # preallocate storage\n",
    "\n",
    "\n",
    "for i in range(gridsize):\n",
    "    C_temp,A_temp,K_temp = solve(K[i],par) \n",
    "    K_plus[i] = K_temp\n",
    "    \n",
    "## plot the maping function\n",
    "plt.plot(K,K_plus) # mapping function\n",
    "plt.plot(K,K) # 45 degree line\n",
    "plt.scatter(K_ss,K_ss,s=200) # Point of steady state\n",
    "plt.text(K_ss,K_ss-ss_jump/10, '$K_{ss}$', fontsize=16) # label of steady state point\n",
    "plt.title('Mapping function') \n",
    "plt.xlabel('$K^i$')\n",
    "plt.ylabel('$K^j_{+}$')\n",
    "plt.gca().legend(('Mapping','45 degree line'))"
   ]
  },
  {
   "cell_type": "markdown",
   "metadata": {},
   "source": [
    "Second, we plot the contraction mapping using an initial guess and then iterate forward:"
   ]
  },
  {
   "cell_type": "code",
   "execution_count": 17,
   "metadata": {},
   "outputs": [
    {
     "data": {
      "image/png": "[encoded data removed]",
      "text/plain": [
       "<Figure size 864x576 with 1 Axes>"
      ]
     },
     "metadata": {
      "needs_background": "light"
     },
     "output_type": "display_data"
    }
   ],
   "source": [
    "## illustrate the contraction mapping\n",
    "K_start = K_ss-ss_jump # starting point / jump off the steady state\n",
    "niter = 6 # number of iterations\n",
    "\n",
    "x = [] # storage for x-values of iteration points\n",
    "y = [] # storage for z-values of iteration points\n",
    "x.append([K_start]) # x-values of starting point\n",
    "y.append([K_start]) # y-values of starting point'\n",
    "\n",
    "K_iter = np.copy(K_start) # initialise starting value\n",
    "\n",
    "for iteration in range(niter):\n",
    "    # a. Iterate K forward\n",
    "    C_iter_plus,A_iter_plus,K_iter_plus = solve(K_iter,par)  # solve for next K\n",
    "    x.append([K_iter]) # x-values new K\n",
    "    y.append([K_iter_plus]) # y-values new K\n",
    "    \n",
    "    # b. Plot the iteration\n",
    "    display.display(plt.gcf()) \n",
    "    display.clear_output(wait=True) # clear plot after every iteration (so that plot looks interactive)\n",
    "    \n",
    "    plt.plot(K,K_plus) # mapping function\n",
    "    plt.plot(K,K) # 45 degree line\n",
    "    plt.plot(x,y) # K points of iteration\n",
    "    plt.scatter(x,np.repeat(y[0],len(x))) # plot convergences along the x-axis \n",
    "    plt.scatter(K_ss,K_ss,s=200) # Point of steady state\n",
    "    plt.text(K_ss,K_ss-ss_jump/10, '$K_{ss}$', fontsize=16) # label of steady state point\n",
    "    plt.title('Contraction Mapping Plot')\n",
    "    plt.xlabel('$K^i$')\n",
    "    plt.ylabel('$K^j_{+}$')\n",
    "    plt.gca().legend(('Mapping','45 degree line','Iteration'))\n",
    "    plt.show()\n",
    "    \n",
    "    time.sleep(2.5) # low down iterations \n",
    "    \n",
    "    # c. Update K for next iteration\n",
    "    K_iter = np.copy(K_iter_plus)"
   ]
  },
  {
   "cell_type": "markdown",
   "metadata": {},
   "source": [
    "# Lecture 1: Exericse\n",
    "\n",
    "# Introducing a pension scheme to the code \n",
    "\n",
    "* The equations below introduce a balanced-budget pay-as-you-go pension scheme to the model outlined in Lecture 1. Working agents contribute a constant share of their wage income $\\tau$ to such a pension scheme, while retired agents receive a benefit $b_t$.\n",
    "\n",
    "###  The balanced budget\n",
    "\\begin{align}\n",
    "       \\tau w_t \\sum_{j=1}^{R} l_{j,t-j} & = \\sum_{j=R+1}^{T} b_{t} \\\\\n",
    "\\end{align}\n",
    "\n",
    "###  The household problem\n",
    "With a pension system, the household problem reads:\n",
    "\\begin{align}\n",
    "\\max_{\\left\\{ c_{t}^{i},s_{t}^{i}\\right\\} }\\text{ }U & =\\sum_{j=1}^{T}\\beta^{t}u(c_{j,t})\\\\\n",
    "& s.t.\\\\\n",
    "c_{j,t}+a_{j,t} & =\\left( 1-\\tau \\right) w_{t+j}l_{j,t}+\\left(1+r_{t+j}\\right)a_{j-1,t} + \\left(1-l_{j,t}\\right)b_t \\quad \\quad \\text{with }  a_{0,t}=0\n",
    "\\end{align}\n",
    "\n",
    "\n",
    "### Consolidated budget constraint\n",
    "Deriving the consolidated budget constraint at birth yields:\n",
    "\\begin{align}\n",
    "\\sum_{j=1}^{T}\\dfrac{c_{j,t}}{\\prod_{x=1}^{j}\\left(1+r_{t+x}\\right)}= \\sum_{j=1}^{T}\\dfrac{\\left( 1-\\tau \\right) w_{t+j}l_{j,t} +\\left(1-l_{j,t}\\right)b_{t+j}}{\\prod_{x=1}^{j}\\left(1+r_{t+x}\\right)}\n",
    "\\end{align}\n",
    "\n",
    "### Solve for $c_1$\n",
    "Solving for $c_{1,t}$ by eliminating $c_{j,t}$ using the long-term Euler-Equation:\n",
    "\\begin{align}\n",
    "c_{1,t}=\\dfrac{\\sum_{j=1}^{T}\\dfrac{\\left( 1-\\tau \\right) w_{t+j}l_{j,t} +\\left(1-l_{j,t}\\right)b_{t+j}}{\\prod_{x=1}^{j}\\left(1+r_{t+x}\\right)}}{\\sum_{j=1}^{T}\\dfrac{\\left[\\dfrac{\\beta^{j-1}}{\\left(1+r_{t+j}\\right)}\\prod_{x=1}^{j}\\left(1+r_{t+x}\\right)\\right]^{\\frac{1}{\\rho}}}{\\prod_{x=1}^{j}\\left(1+r_{t+x}\\right)}}\n",
    "\\end{align}\n",
    "\n",
    "## Steady State\n",
    "The closed-form solution for first-period consumption for given steady-state factor prices reads:\n",
    "\\begin{equation}\n",
    "c_1=\\dfrac{\\sum_{j=1}^{T}\\dfrac{\\left( 1-\\tau \\right) w l_{j}  +   \\left(1-l_{j}\\right)b }{\\left(1+r\\right)^{j}}}{\\sum_{j=1}^{T}\\dfrac{\\left[\\beta\\left(1+r\\right)\\right]^{\\frac{j-1}{\\rho}}}{\\left(1+r\\right)^{j}}}\n",
    "\\end{equation}\n",
    "\n",
    "where:\n",
    "\\begin{align}\n",
    "       b = & \\tau w \\dfrac{  \\sum_{j=1}^{T}  l_{j} }{T-R}\n",
    "\\end{align}\n",
    "\n",
    "steady-state saving can then be traced back via the period-by-period budget.\n",
    "\n",
    "\n",
    "# Exercise\n",
    "\n",
    "### 1) Add the pension scheme to the code offered in Lecture 1.\n",
    "\n",
    "\n",
    "### 2) Solve for the steady-state given $\\tau=0.1$ and compare the new steady state to the one without the pension scheme.\n",
    "\n"
   ]
  }
 ],
 "metadata": {
  "kernelspec": {
   "display_name": "Python 3",
   "language": "python",
   "name": "python3"
  },
  "language_info": {
   "codemirror_mode": {
    "name": "ipython",
    "version": 3
   },
   "file_extension": ".py",
   "mimetype": "text/x-python",
   "name": "python",
   "nbconvert_exporter": "python",
   "pygments_lexer": "ipython3",
   "version": "3.8.5"
  }
 },
 "nbformat": 4,
 "nbformat_minor": 4
}
