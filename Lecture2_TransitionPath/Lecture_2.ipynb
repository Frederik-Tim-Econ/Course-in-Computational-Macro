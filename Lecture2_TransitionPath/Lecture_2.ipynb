{
 "cells": [
  {
   "cell_type": "markdown",
   "metadata": {},
   "source": [
    "# Lecture 2: Dynamic Transition Path\n",
    "* All model features are as in the model from the exercise in Lecture 1.\n",
    "* We now consider the transition between two steady states after the introduction of a pension scheme.\n",
    "* We model this as an MIT shock (a shock in a world without shocks) to the pension contribution rate $\\tau$ at time $t$.\n",
    "\n",
    "\n",
    "## Solution Algorithm\n",
    "The decision problem of the individual is forward looking, as agents take into account expected future factor prices and benefits $T$ periods ahead. However, as generations overlap, cohort-specific decisions are interdependent, and thus, the dynamic transition path becomes infinitely forward looking.\n",
    "\n",
    "* This poses a challenge when solving such models for a dynamic transition numerically!\n",
    "\n",
    "To tackle this challenge, we utilize an Auerbach-Kotlikoff-type algorithm that uses information on the long-run steady-state equilibrium to truncate the problem at a finite time horizon. In any period after this finite horizon, the economy is assumed to have converged to the new steady state, such that all future prices are known. To initialize the algorithm, we assume that the economy is initially in a steady state with $\\tau=0$ an has been for many periods. Thus, we know the level of inherited capital when the shock occurs.\n",
    "\n",
    "Formally, \n",
    "0. Guess a transition path for capital from one steady state to the other. For all period on the finite transition path, $t_p\\in TP$\n",
    "1. Use inherited savings to produce a new guess for capital tomorrow\n",
    "2. Update tomorrow's factor prices and benefits accordingly\n",
    "3. Compute decisions for birth cohort $t_p$:\n",
    "    1. For cohorts born before the shock, $t_p<t$, update planned decisions given past savings and future prices\n",
    "    2. For cohorts born after the shock, $t_p\\geq t$, compute new path given future prices\n",
    "4. Given the updated vector of capital, repeat step 1 to 4 until the entire path converges\n",
    "\n",
    "\n",
    "## Adjustment\n",
    "In step 3.A of the solution algorithm, we allow people born before the shock (alive at the time of the shock), to update their planned behavior given the old steady state.\n",
    "\n",
    "Imagine that new information arrives at the start of period $t$. Then an individual who is aged $j$ in that period was born in period $t-j$ and now solves:\n",
    "\\begin{align}\n",
    "\\max_{\\left\\{c_{\\tau,t-j},a_{\\tau,t-j}\\right\\} }\\text{ }U_{t-j} & =\\sum_{x=j}^{d}\\beta^{x}u\\left(c_{x,t-j}\\right)\\\\\n",
    "& s.t.\\\\\n",
    "c_{x,t-j}+a_{x,t-j} & =\\left(1-\\tau_{t-j+x}\\right)w_{t-j+x}l_{x,t-j}+\\left(1 + r_{t-j+x}\\right)a_{x-1,t-j}+b_{t-j+x}\\left(1-l_{x,t-j}\\right)\n",
    "\\end{align}\n",
    "for $x\\geq a$ given savings, $a_{j-1,t-j}$, carried over from the previous period. The consolidated budget reads:\n",
    "\\begin{align}\n",
    "    \\sum_{x=j}^{d}\\dfrac{c_{x,t-j}}{\\prod_{s=j}^{x}\\left(1 + r_{t-j+s}\\right)} & =a_{j-1,t-j}+\\sum_{x=j}^{d}\\dfrac{\\left(1-\\tau_{t-j+x}\\right)w_{t-j+x}l_{x,t-j}+b_{t-j+x}\\left(1-l_{x,t-j}\\right)}{\\prod_{s=j}^{x}\\left(1 + r_{t-j+s}\\right)}\n",
    "\\end{align}\n",
    "\n",
    "The long-run Euler equation at age $x$ can be written as:\n",
    "\\begin{align}\n",
    "    c_{x,t-j} & =\\left(\\beta^{x-j}\\dfrac{\\prod_{s=j}^{x}\\left(1 + r_{t-j+s}\\right)}{1+r_{t}}\\right)^{\\frac{1}{\\sigma}}c_{j,t-j}\n",
    "    \\tag{L2.1}\n",
    "\\end{align}\n",
    "\n",
    "Thus, we can solve closed-form for consumption in the period of the shock:\n",
    "\\begin{equation*}\n",
    "    c_{a,t-j}=\\dfrac{a_{j-1,t-j}+\\sum_{x=j}^{d}\\dfrac{\\left(1-\\tau_{t-j+\\tau}\\right)w_{t-j+\\tau}l_{\\tau,t-j}+b_{t-j+\\tau}\\left(1-l_{\\tau,t-j}\\right)}{\\prod_{s=j}^{x}\\left(1 + r_{t-j+s}\\right)}}{\\sum_{\\tau=a}^{d}\\dfrac{\\left(\\beta^{\\tau-j}\\dfrac{\\prod_{s=j}^{\\tau}\\left(1 + r_{t-j+s}\\right)}{1 + r_{t}}\\right)^{\\frac{1}{\\sigma}}}{\\prod_{s=j}^{\\tau}\\left(1 + r_{t-j+s}\\right)}}\n",
    "    \\tag{L2.2}\n",
    "\\end{equation*}"
   ]
  },
  {
   "cell_type": "markdown",
   "metadata": {},
   "source": [
    "## Implementation"
   ]
  },
  {
   "cell_type": "code",
   "execution_count": 237,
   "metadata": {},
   "outputs": [],
   "source": [
    "# Toolkit on coding multiperiod OLG models\n",
    "# Authors: Frederik Bjørn Christensen, Tim Dominik Maurer"
   ]
  },
  {
   "cell_type": "code",
   "execution_count": 1,
   "metadata": {},
   "outputs": [],
   "source": [
    "# Import packages\n",
    "import numpy as np\n",
    "import scipy.optimize as optimize\n",
    "import time\n",
    "import SS_Functions as SS\n",
    "import matplotlib.pyplot as plt\n",
    "plt.rcParams['figure.figsize'] = [15, 10]"
   ]
  },
  {
   "cell_type": "markdown",
   "metadata": {},
   "source": [
    "### Functions"
   ]
  },
  {
   "cell_type": "code",
   "execution_count": 2,
   "metadata": {},
   "outputs": [],
   "source": [
    "def savings_function(rvec,wvec,bvec,τ,par): # Solve for consumption, savings and aggregate capital given a guess for r \n",
    "   # Unpacking Parameters\n",
    "    T = par['T']\n",
    "    ρ = par['ρ']\n",
    "    β = par['β']\n",
    "    l = par['l']\n",
    "    \n",
    "    # Solve for first-period consumption as in equation L1.3\n",
    "    c1_numerator =   sum(((1-τ)*wvec*l + (1-l)*bvec)/np.cumprod(1+rvec))\n",
    "    c1_denominator = sum(((np.cumprod(1+rvec)*β**np.arange(T))/(1+rvec[0]))**(1/ρ)/np.cumprod(1+rvec))\n",
    "    C1 = c1_numerator/c1_denominator\n",
    "    \n",
    "    # Solve for the whole consumption path using L1.2\n",
    "    C = C1*(β**np.arange(T)*np.cumprod(1+rvec)/(1+rvec[0]))**(1/ρ)\n",
    "\n",
    "    # STEP 5: Solve for the whole saviongs path using the budget constraint\n",
    "    A = np.zeros(T) # preallocate storage\n",
    "    \n",
    "    A[0] = (1-τ)*wvec[0]*l[0] - C[0] # solve for first period savings given no initial wealth\n",
    "    \n",
    "    for t in range(T): # solve the whole savings path\n",
    "        if t>0:\n",
    "            A[t] = (1-τ)*wvec[t]*l[t] + (1-l[t])*bvec[t] + (1 + rvec[t])*A[t-1] - C[t]\n",
    "                  \n",
    "    return A,C\n",
    "\n",
    "\n",
    "def update_savings(age,A,C,rvec,wvec,bvec,τ,par): # Solve for consumption, savings and aggregate capital given a guess for r \n",
    "    # \"age\" is the age in the shock period\n",
    "    # \"A\" is the savings-path given no shock\n",
    "    # \"C\" is the consumption-path given no shock\n",
    "\n",
    "   # Unpacking Parameters\n",
    "    T = par['T']\n",
    "    ρ = par['ρ']\n",
    "    β = par['β']\n",
    "    l = par['l']\n",
    "    \n",
    "    # Determine savings from the period just before the shock\n",
    "    if age==0:\n",
    "        A_init = 0 # New generations do not have initial wealth (a sanity check)\n",
    "    else:\n",
    "        A_init = A[age-1] # Generations who were born before the shock\n",
    "    \n",
    "    # Solve for shock-period consumption as in L2.2\n",
    "    numerator   =  A_init + sum(((1-τ)*wvec[age:T]*l[age:T] + (1-l[age:T])*bvec[age:T])/np.cumprod(1+rvec[age:T]))\n",
    "    denominator =  sum((β**np.arange(T-age)*np.cumprod(1+rvec[age:T])/(1+rvec[age]))**(1/ρ)/np.cumprod(1+rvec[age:T]))\n",
    "    C_age = numerator/denominator\n",
    "    \n",
    "    # Solve for the whole consumption path using L2.1\n",
    "    C[age:T] = C_age*(β**np.arange(T-age)*np.cumprod(1+rvec[age:T])/(1+rvec[age]))**(1/ρ)\n",
    "    \n",
    "    # Update savings using the period-by-period budget\n",
    "    if age==0:\n",
    "        # solve for first period savings given no initial wealth\n",
    "        A[age] = (1-τ)*wvec[age]*l[age] + (1-l[age])*bvec[age] - C[age]\n",
    "    \n",
    "    # solve the whole savings path\n",
    "    for x in range(age,T,1):\n",
    "        if x>0:\n",
    "            A[x] = (1-τ)*wvec[x]*l[x] + (1-l[x])*bvec[x] + (1 + rvec[x])*A[x-1] - C[x]\n",
    "    \n",
    "    return A,C"
   ]
  },
  {
   "cell_type": "markdown",
   "metadata": {},
   "source": [
    "## Calibration"
   ]
  },
  {
   "cell_type": "code",
   "execution_count": 3,
   "metadata": {},
   "outputs": [],
   "source": [
    "# Define a dictionary for model parameters\n",
    "par = dict() \n",
    "# Calibrate parameters\n",
    "par['T'] = 20 # max age\n",
    "par['R'] = 15 # retirement age\n",
    "par['α'] = 1/3 # output elasticities of capital\n",
    "par['ρ'] = 2 # risk aversion parameter\n",
    "par['δ'] = 0.07 # yearly discount rate\n",
    "par['β'] = 0.95 # agent's patience parameter\n",
    "# vector exogenous labour supply given retirement\n",
    "par['l'] = np.concatenate([np.ones(par['R']),np.zeros([par['T'] - par['R']])]) \n",
    "par['L'] = sum(par['l']) # aggregate labour supply\n",
    "\n",
    "# unpack\n",
    "T = par['T']\n",
    "R = par['R']\n",
    "α = par['α']\n",
    "ρ = par['ρ']\n",
    "δ = par['δ']\n",
    "β = par['β']\n",
    "l = par['l']\n",
    "L = par['L']"
   ]
  },
  {
   "cell_type": "markdown",
   "metadata": {},
   "source": [
    "## Experiment: MIT-shock to Pension Scheme Generosity"
   ]
  },
  {
   "cell_type": "code",
   "execution_count": 4,
   "metadata": {
    "scrolled": false
   },
   "outputs": [
    {
     "name": "stdout",
     "output_type": "stream",
     "text": [
      "itrations:  37\n"
     ]
    },
    {
     "data": {
      "text/plain": [
       "(0, 43.7366233754656)"
      ]
     },
     "execution_count": 4,
     "metadata": {},
     "output_type": "execute_result"
    },
    {
     "data": {
      "image/png": "[encoded data removed]",
      "text/plain": [
       "<Figure size 1080x720 with 1 Axes>"
      ]
     },
     "metadata": {
      "needs_background": "light"
     },
     "output_type": "display_data"
    }
   ],
   "source": [
    "# Timing of events\n",
    "T_shock      = T     # Time of the shock\n",
    "T_conv       = 100   # Convergence periods (T_conv>T to allow for extra time to convergence after all shocked cohorts die off)\n",
    "T_perfect    = T     # Perfect foresight periods (People foresee SS prices T periods into the future when making choices)\n",
    "\n",
    "# The full timeline\n",
    "TP = T_shock + T_conv + T_perfect\n",
    "\n",
    "# In period T_shock, the contribution rate is unexpectedly changed from 0 to 0.1\n",
    "τ0 = 0.0\n",
    "τ1 = 0.1\n",
    "\n",
    "## calculate pre-MIT-shock K_ss\n",
    "K_ss0 = SS.Kss(τ0,par)\n",
    "\n",
    "## calculate post-MIT-shock K_ss\n",
    "K_ss1 = SS.Kss(τ1,par)\n",
    "\n",
    "# Interpolating guess for K\n",
    "Kvec = np.concatenate([np.repeat(K_ss0,T_shock),np.linspace(K_ss0,K_ss1,T_conv),np.repeat(K_ss1,T_perfect)])\n",
    "\n",
    "rvec = α*(Kvec/L)**(α-1) - δ\n",
    "wvec = (1 - α)*(Kvec/L)**α\n",
    "τvec = np.concatenate([np.repeat(τ0,T_shock),np.repeat(τ1,T_conv+T_perfect)])\n",
    "bvec = τvec*wvec*sum(l)/(T-R)\n",
    "\n",
    "# Preallocating\n",
    "A = np.zeros([TP,T])\n",
    "C = np.zeros([TP,T])\n",
    "\n",
    "# Computing steady-state savings and consumption in the old steady state\n",
    "A_pre,C_pre = savings_function(np.repeat(rvec[0],T),np.repeat(wvec[0],T),np.repeat(bvec[0],T),τ0,par)\n",
    "\n",
    "# Pre-shock consumption-saving paths (updated later)\n",
    "for tp in range(T_shock):\n",
    "        A[tp,:] = A_pre\n",
    "        C[tp,:] = C_pre\n",
    "        \n",
    "# Iterating over guesses of the capital transition path until convergence of the entire path\n",
    "stepsize = 100000000\n",
    "tol = 0.000001\n",
    "counter = 0\n",
    "\n",
    "while stepsize>tol:\n",
    "    counter = counter + 1 # Count iterations until convergence\n",
    "    ktemp   = np.copy(Kvec)        # Save current guess of the transiti0on path\n",
    "    \n",
    "    # Adjusting consumption-saving paths for people aged 1 to T at the time of the shock (reacting to changes in prices and policy)\n",
    "    for age in range(T):\n",
    "        A[tp-age,:],C[tp-age,:] = update_savings(age,np.copy(A_pre),np.copy(C_pre),rvec[(tp-age):(tp+T-age)],wvec[(tp-age):(tp+T-age)],bvec[(tp-age):(tp+T-age)],τ0,par)\n",
    "   \n",
    "    # Giving birth to new cohorts (born after the shock) and writing forward capital, factor prices, and benefits\n",
    "    for tp in range(T_shock,T_shock + T_conv,1):\n",
    "        Kvec[tp] = sum(np.diag(np.flipud(A[(tp-T):tp,:])))\n",
    "        rvec[tp] = α*(Kvec[tp]/L)**(α-1) - δ\n",
    "        wvec[tp] = (1 - α)*(Kvec[tp]/L)**α\n",
    "        bvec[tp] = τvec[tp]*wvec[tp]*sum(l)/(T-R)\n",
    "\n",
    "        # A new post-shock generation is born, consumes, and saves\n",
    "        A[tp,:],C[tp,:] = savings_function(rvec[tp:(tp+T)],wvec[tp:(tp+T)],bvec[tp:(tp+T)],τ1,par)\n",
    "    \n",
    "    # Update stepsize\n",
    "    if counter>0:\n",
    "        stepsize = max(abs(Kvec-ktemp))\n",
    "\n",
    "print('itrations: ',counter)\n",
    "# Plot Transition path\n",
    "plt.plot(Kvec)\n",
    "plt.ylim(0, max(Kvec)+5)\n"
   ]
  },
  {
   "cell_type": "code",
   "execution_count": null,
   "metadata": {},
   "outputs": [],
   "source": []
  }
 ],
 "metadata": {
  "kernelspec": {
   "display_name": "Python 3",
   "language": "python",
   "name": "python3"
  },
  "language_info": {
   "codemirror_mode": {
    "name": "ipython",
    "version": 3
   },
   "file_extension": ".py",
   "mimetype": "text/x-python",
   "name": "python",
   "nbconvert_exporter": "python",
   "pygments_lexer": "ipython3",
   "version": "3.8.5"
  }
 },
 "nbformat": 4,
 "nbformat_minor": 4
}
